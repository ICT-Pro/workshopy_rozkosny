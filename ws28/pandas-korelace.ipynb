{
 "cells": [
  {
   "cell_type": "code",
   "execution_count": 1,
   "metadata": {},
   "outputs": [
    {
     "name": "stdout",
     "output_type": "stream",
     "text": [
      "          TMAX      TMIN      SNWD      PRCP\n",
      "TMAX  1.000000  0.898038 -0.184010  0.053256\n",
      "TMIN  0.898038  1.000000 -0.225649  0.026741\n",
      "SNWD -0.184010 -0.225649  1.000000 -0.005913\n",
      "PRCP  0.053256  0.026741 -0.005913  1.000000\n"
     ]
    },
    {
     "data": {
      "text/plain": [
       "<AxesSubplot:xlabel='TMAX', ylabel='TMIN'>"
      ]
     },
     "execution_count": 1,
     "metadata": {},
     "output_type": "execute_result"
    },
    {
     "data": {
      "image/png": "[encoded data removed]",
      "text/plain": [
       "<Figure size 432x288 with 1 Axes>"
      ]
     },
     "metadata": {
      "needs_background": "light"
     },
     "output_type": "display_data"
    }
   ],
   "source": [
    "# Import knihovny Pandas\n",
    "import pandas as pd\n",
    "\n",
    "'''\n",
    "Z .csv souboru nahráváme data o povětrnostních podmínkách ve vybraných lokalitách.\n",
    "Informace k jednotlivým použitým sloupečkům DataFrame\n",
    "\n",
    "DATE: Datum informací o povětrnostních podmínkách\n",
    "NAME: Název místa\n",
    "TMAX: Maximální teplota\n",
    "TMIN: Minimální teplota\n",
    "PRCP: Množství dešťových srážek\n",
    "SNWD: Množství sněhového spadu\n",
    "\n",
    "K výpočtu korelace byl použit výchozí způsob, tj. Pearsonůvm korelační koeficient,\n",
    "viz https://www.wikiskripta.eu/w/F%C3%B3rum:Testy/Pearson%C5%AFv_korela%C4%8Dn%C3%AD_koeficient\n",
    "'''\n",
    "\n",
    "# Vytvoreni DataFrame z dat ulozenych v .csv souboru\n",
    "df =  pd.read_csv('https://raw.githubusercontent.com/ICT-Pro/workshopy_rozkosny/main/ws28/pydata_data.csv',delimiter=';')\n",
    "# Prevod sloupce DATE na datovy typ datetime\n",
    "df['DATE'] = pd.to_datetime(df['DATE'])\n",
    "\n",
    "# Pro ucely nasledne analyzy jsme si z DataFrame df vytvorili dalsi 3 DataFrame, ktere\n",
    "# obsahuji data pro vybrane lokality. V puvodnim DataFrame byly vsechny tyto lokality ve sloupci NAME pod sebou\n",
    "df_ruzyne = df.loc[df['NAME']=='RUZYNE',['DATE','TMAX','TMIN','SNWD','PRCP']].set_index('DATE',drop=True)\n",
    "df_turany = df.loc[df['NAME']=='TURANY',['DATE','TMAX','TMIN','SNWD','PRCP']].set_index('DATE',drop=True)\n",
    "df_viden = df.loc[df['NAME']=='WIEN',['DATE','TMAX','TMIN','SNWD','PRCP']].set_index('DATE',drop=True)\n",
    "# Korelacni matice DataFrame df_ruzyne\n",
    "print(df_ruzyne.corr())\n",
    "\n",
    "'''\n",
    "Interpretace korelační matice: Maximální teplota má negativní korelaci s množstvím spadeného sněhu,\n",
    "maximální teplota má silnou pozitivní korelaci s minimální teplotou naměřenou ve stejném dnu\n",
    "a prakticky žádnou korelaci s množstvím dešťových srážek. Nárůst či pokles teplot nemá vliv na dešťové srážky\n",
    "'''\n",
    "\n",
    "# Definice korelačního diagramu, kdy na ose x jsou hodnoty ze sloupce TMAX (maximální teplota) a na ose y hodnoty ze sloupce TMIN (minimální teplota)\n",
    "df_ruzyne.plot.scatter('TMAX','TMIN')\n"
   ]
  },
  {
   "cell_type": "code",
   "execution_count": 3,
   "metadata": {},
   "outputs": [
    {
     "name": "stdout",
     "output_type": "stream",
     "text": [
      "TMAX    0.967293\n",
      "TMIN    0.946811\n",
      "SNWD    0.484008\n",
      "PRCP    0.407585\n",
      "dtype: float64\n",
      "TMAX    0.961921\n",
      "TMIN    0.951879\n",
      "SNWD    0.360302\n",
      "PRCP    0.211007\n",
      "dtype: float64\n"
     ]
    },
    {
     "data": {
      "text/plain": [
       "'\\nInterpretace:  Lokalita RUZYNE má vyšší korelaci u dešťových srážek a spadeného sněhu v lokalitou TURANY než lokalitou WIEN\\nKorelace v případě maximální teploty, tj. sloupce TMAX jsou prakticky identické.\\n'"
      ]
     },
     "execution_count": 3,
     "metadata": {},
     "output_type": "execute_result"
    }
   ],
   "source": [
    "# Vypocet korelace jednotlivych sloupcu mezi lokalitami RUZYNE a TURANY\n",
    "print(df_ruzyne.corrwith(df_turany))\n",
    "# Vypocet korelace jednotlivych sloupcu mezi lokalitami RUZYNE a WIEN\n",
    "print(df_ruzyne.corrwith(df_viden))\n",
    "'''\n",
    "Interpretace:  Lokalita RUZYNE má vyšší korelaci u dešťových srážek a spadeného sněhu v lokalitou TURANY než lokalitou WIEN\n",
    "Korelace v případě maximální teploty, tj. sloupce TMAX jsou prakticky identické.\n",
    "'''"
   ]
  },
  {
   "cell_type": "code",
   "execution_count": 5,
   "metadata": {},
   "outputs": [
    {
     "name": "stdout",
     "output_type": "stream",
     "text": [
      "MESIC\n",
      "1     0.999829\n",
      "2     0.999986\n",
      "3     0.999887\n",
      "4     0.973281\n",
      "5     0.987380\n",
      "6     0.866589\n",
      "7     0.998980\n",
      "8     0.994178\n",
      "9     0.986795\n",
      "10    0.770542\n",
      "11    0.997130\n",
      "12    0.999802\n",
      "dtype: float64\n"
     ]
    },
    {
     "data": {
      "text/plain": [
       "'\\nInterpretace: Nejvyšší korelaci mají měsíční povětrnostní podmínky v měsících 11,12,1,2,3.\\nNejnižší (i když stále vysokou) korelaci mají měsíční povětrnostní podmínky v měsících 6 a 10.\\n\\n'"
      ]
     },
     "execution_count": 5,
     "metadata": {},
     "output_type": "execute_result"
    }
   ],
   "source": [
    "# Vytvoreni kopii DataFrame\n",
    "df_ruzyne_mesicne = df_ruzyne.copy()\n",
    "df_turany_mesicne = df_turany.copy()\n",
    "\n",
    "# Vytvoreni noveho sloupce MESIC, ktery je nasledne pouzit pro agregaci\n",
    "df_ruzyne_mesicne['MESIC'] = df_ruzyne_mesicne.index.month\n",
    "df_turany_mesicne['MESIC'] = df_turany_mesicne.index.month\n",
    "\n",
    "# Agregace dennich dat na mesice pri pouziti agregacni funkce mean()\n",
    "df_ruzyne_mesicne = df_ruzyne_mesicne.groupby('MESIC').mean()\n",
    "df_turany_mesicne = df_turany_mesicne.groupby('MESIC').mean()\n",
    "\n",
    "# Vypocet korelace na urovni jednotlivych mesicu mezi lokalitami RUZYNE a TURANY\n",
    "print(df_ruzyne_mesicne.corrwith(df_turany_mesicne,axis=1))\n",
    "\n",
    "'''\n",
    "Interpretace: Nejvyšší korelaci mají měsíční povětrnostní podmínky v měsících 11,12,1,2,3.\n",
    "Nejnižší (i když stále vysokou) korelaci mají měsíční povětrnostní podmínky v měsících 6 a 10.\n",
    "\n",
    "'''"
   ]
  },
  {
   "attachments": {},
   "cell_type": "markdown",
   "metadata": {},
   "source": [
    "Cvičení\n",
    "\n",
    "Jaký je korelační koeficient mezi sloupci TMIN a SNWD, tj. jaký vliv má minimální teplota na množství spadeného sněhu?\n",
    "\n",
    "Vytvořte korelační diagram s TMAX na ose x a PRCP na ose Y\n",
    "\n",
    "Reseni najdete zde: https://github.com/ICT-Pro/workshopy_rozkosny/blob/main/ws28/reseni_cviceni"
   ]
  }
 ],
 "metadata": {
  "kernelspec": {
   "display_name": "Python 3",
   "language": "python",
   "name": "python3"
  },
  "language_info": {
   "codemirror_mode": {
    "name": "ipython",
    "version": 3
   },
   "file_extension": ".py",
   "mimetype": "text/x-python",
   "name": "python",
   "nbconvert_exporter": "python",
   "pygments_lexer": "ipython3",
   "version": "3.10.2 (tags/v3.10.2:a58ebcc, Jan 17 2022, 14:12:15) [MSC v.1929 64 bit (AMD64)]"
  },
  "orig_nbformat": 4,
  "vscode": {
   "interpreter": {
    "hash": "1a93e313433103e0a8d57b4fe23ea50035f4bd321bef6a65d84f73e2a17a4fde"
   }
  }
 },
 "nbformat": 4,
 "nbformat_minor": 2
}
